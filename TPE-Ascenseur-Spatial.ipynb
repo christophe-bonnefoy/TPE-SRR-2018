{
 "cells": [
  {
   "cell_type": "markdown",
   "metadata": {},
   "source": [
    "# Mathematique de l'ascenseur spatial\n",
    "\n",
    "Nous allons d'abord charger les librairies Python de Mathematiques (numpy) et de représentation graphique (matplotlib)\n",
    "Sans numpy nous n'aurions pas de fonction racine (sqrt); matplotlib fonctionne un peu comme la calculatrice \n"
   ]
  },
  {
   "cell_type": "code",
   "execution_count": 73,
   "metadata": {},
   "outputs": [],
   "source": [
    "import numpy as np\n",
    "import matplotlib.pyplot as plt"
   ]
  },
  {
   "cell_type": "markdown",
   "metadata": {},
   "source": [
    "Et ensuite definir les constantes utilisées:"
   ]
  },
  {
   "cell_type": "code",
   "execution_count": 83,
   "metadata": {
    "scrolled": false
   },
   "outputs": [],
   "source": [
    "G = 6.67408E-11    # Constante de gravitation universelle en m(3)*s(-2)*kg(-1)\n",
    "M = 5.97242E24     # Masse de la terre en kg\n",
    "RTerre = 6.371E6   # Rayon de la Terre en m, soit 6371 km      "
   ]
  },
  {
   "cell_type": "markdown",
   "metadata": {},
   "source": [
    "### Force gravitationnelle et force centrifuge:\n",
    "Nous allons tracer sur le même qraphique les deux forces, gravitationelle et centrifuge.   \n",
    "Le rayon r prendra des valeurs entre 1 et 100 "
   ]
  },
  {
   "cell_type": "code",
   "execution_count": 108,
   "metadata": {},
   "outputs": [
    {
     "name": "stderr",
     "output_type": "stream",
     "text": [
      "/Library/Frameworks/Python.framework/Versions/3.6/lib/python3.6/site-packages/ipykernel_launcher.py:2: RuntimeWarning: divide by zero encountered in true_divide\n",
      "  \n",
      "/Library/Frameworks/Python.framework/Versions/3.6/lib/python3.6/site-packages/ipykernel_launcher.py:2: RuntimeWarning: invalid value encountered in sqrt\n",
      "  \n"
     ]
    },
    {
     "data": {
      "image/png": "[encoded data removed]",
      "text/plain": [
       "<matplotlib.figure.Figure at 0x10fbab080>"
      ]
     },
     "metadata": {},
     "output_type": "display_data"
    }
   ],
   "source": [
    "ForceGravitation =       (G*M)/(r**2)\n",
    "VitesseAngulaire = np.sqrt((G*M)/(r**3))\n",
    "'''\n",
    "r = np.arange(50000, 300000, 1)\n",
    "\n",
    "ForceCentrifuge  = np.sqrt((G*M)/(r**3))\n",
    "\n",
    "plt.plot(r, ForceGravitation)\n",
    "\n",
    "plt.xlabel(\"Rayon de l'orbite en km\")\n",
    "plt.ylabel(\"Accélération \")\n",
    "plt.grid()\n",
    "plt.title(\"Accélération gravitationnelle vs rayon de l'orbite\")\n",
    "\n",
    "plt.show()\n",
    "'''\n",
    "r = np.arange(6000000, 10000000, 1)\n",
    "\n",
    "plt.plot(r, ForceGravitation)\n",
    "\n",
    "plt.xlabel(\"Rayon de l'orbite en km\")\n",
    "plt.ylabel(\"Accélération \")\n",
    "plt.grid()\n",
    "plt.title(\"Accélération gravitationnelle vs rayon de l'orbite\")\n",
    "\n",
    "plt.show()\n"
   ]
  },
  {
   "cell_type": "code",
   "execution_count": null,
   "metadata": {},
   "outputs": [],
   "source": []
  },
  {
   "cell_type": "code",
   "execution_count": null,
   "metadata": {},
   "outputs": [],
   "source": []
  }
 ],
 "metadata": {
  "kernelspec": {
   "display_name": "Python 3",
   "language": "python",
   "name": "python3"
  },
  "language_info": {
   "codemirror_mode": {
    "name": "ipython",
    "version": 3
   },
   "file_extension": ".py",
   "mimetype": "text/x-python",
   "name": "python",
   "nbconvert_exporter": "python",
   "pygments_lexer": "ipython3",
   "version": "3.6.3"
  }
 },
 "nbformat": 4,
 "nbformat_minor": 2
}
