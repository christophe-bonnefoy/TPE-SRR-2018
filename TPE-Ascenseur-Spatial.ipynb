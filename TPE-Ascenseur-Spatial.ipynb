{
 "cells": [
  {
   "cell_type": "markdown",
   "metadata": {},
   "source": [
    "# Fonctionnement de l'ascenseur spatial\n",
    "\n",
    "Nous allons d'abord charger les librairies Python de Mathematiques (numpy) et de représentation graphique (matplotlib).   \n",
    "Sans numpy nous n'aurions pas de fonction racine (sqrt).   \n",
    "Quant à matplotlib, il s'agit d'une librairie qui fonctionne un peu comme la calculatrice du Lyçée et nous permet de tracer des courbes.\n"
   ]
  },
  {
   "cell_type": "code",
   "execution_count": 1,
   "metadata": {},
   "outputs": [],
   "source": [
    "import numpy as np\n",
    "import matplotlib.pyplot as plt"
   ]
  },
  {
   "cell_type": "markdown",
   "metadata": {},
   "source": [
    "Définissions ensuite les constantes utilisées:"
   ]
  },
  {
   "cell_type": "code",
   "execution_count": 44,
   "metadata": {
    "scrolled": false
   },
   "outputs": [],
   "source": [
    "G  = 6.67408E-11    # Constante de gravitation universelle en m(3)*s(-2)*kg(-1)\n",
    "M  = 5.97242E24     # Masse de la terre en kg\n",
    "Rt = 6.3781E6       # Rayon de la Terre en m, soit 6378 km   \n",
    "#Rg = 42300          # Rayon de l'orbite geostationnaire en km"
   ]
  },
  {
   "cell_type": "markdown",
   "metadata": {},
   "source": [
    "## 2. Movement orbital"
   ]
  },
  {
   "cell_type": "markdown",
   "metadata": {},
   "source": [
    "Calcul de la vitesse de rotation de la terre, en radians par seconde:"
   ]
  },
  {
   "cell_type": "code",
   "execution_count": 45,
   "metadata": {},
   "outputs": [
    {
     "name": "stdout",
     "output_type": "stream",
     "text": [
      "Vitesse de rotation de la terre =  7.27220521664304e-05 Radians/seconde\n"
     ]
    }
   ],
   "source": [
    "Wt = (2*np.pi)/(24*60*60)\n",
    "print(\"Vitesse de rotation de la terre = \",Wt,\"Radians/seconde\")"
   ]
  },
  {
   "cell_type": "markdown",
   "metadata": {},
   "source": [
    "### Force gravitationnelle et force centrifuge:\n",
    "Nous allons tracer sur le même qraphique les deux forces, gravitationelle et centrifuge.   \n",
    "Le rayon r prendra des valeurs entre 6.000 km et 150.000 km"
   ]
  },
  {
   "cell_type": "code",
   "execution_count": 52,
   "metadata": {},
   "outputs": [
    {
     "data": {
      "image/png": "[encoded data removed]",
      "text/plain": [
       "<matplotlib.figure.Figure at 0x11042ed68>"
      ]
     },
     "metadata": {},
     "output_type": "display_data"
    }
   ],
   "source": [
    "# Le rayon r prendra des valeurs entre 6.000 km et 150.000 km\n",
    "r_km = np.arange(6000, 150000, 1)\n",
    "\n",
    "ForceGravitation = 1E-6 * (G*M)/(r_km**2)\n",
    "ForceCentrifuge  = 1E3  * r_km * Wt**2\n",
    "\n",
    "plt.plot(r_km, ForceGravitation)\n",
    "plt.plot(r_km, ForceCentrifuge)\n",
    "\n",
    "plt.xlabel(\"Rayon de l'orbite en km\")\n",
    "plt.ylabel(\"Forces \")\n",
    "plt.grid()\n",
    "plt.title(\"Forces vs rayon de l'orbite\")\n",
    "\n",
    "plt.show()\n",
    "\n"
   ]
  },
  {
   "cell_type": "markdown",
   "metadata": {},
   "source": [
    "### Calcul de la hauteur de l'orbite geostationnaire\n",
    "Nous pouvons calculer la valeur exacte de l'orbite geostationnaire. Cette valeur doit "
   ]
  },
  {
   "cell_type": "code",
   "execution_count": 49,
   "metadata": {},
   "outputs": [
    {
     "name": "stdout",
     "output_type": "stream",
     "text": [
      "Rayon de l'orbite geostationnaire en metres: 42241224\n",
      "Hauteur de l'orbite geostationnaire en m: 35863124\n",
      "Rayon de l'orbite geostationnaire en km: 42241\n",
      "Hauteur de l'orbite geostationnaire en m: 35863\n"
     ]
    }
   ],
   "source": [
    "Rg = ((G*M)/(Wt**2))**(1/3)\n",
    "Hg = Rg - Rt\n",
    "\n",
    "print(\"Rayon de l'orbite geostationnaire en metres:\",int(Rg))\n",
    "print(\"Hauteur de l'orbite geostationnaire en m:\",int(Hg))\n",
    "\n",
    "Rg = ((G*M)/(Wt**2))**(1/3) * 1E-3\n",
    "Hg = Hg * 1E-3\n",
    "\n",
    "print(\"Rayon de l'orbite geostationnaire en km:\",int(Rg))\n",
    "print(\"Hauteur de l'orbite geostationnaire en m:\",int(Hg))\n"
   ]
  },
  {
   "cell_type": "markdown",
   "metadata": {},
   "source": [
    "### Vitesses aux différentes orbites\n",
    "À toute orbite correspond une vitesse orbitale précise pour laquelle les forces d'attraction gravitationelle et centrifuge se compensent."
   ]
  },
  {
   "cell_type": "code",
   "execution_count": 47,
   "metadata": {},
   "outputs": [],
   "source": [
    "r_km = np.arange(6000, 150000, 1)\n",
    "VitesseAngulaire = np.sqrt((G*M)/(r_km**3))"
   ]
  },
  {
   "cell_type": "markdown",
   "metadata": {},
   "source": [
    "# 3. L'ascenseur"
   ]
  },
  {
   "cell_type": "code",
   "execution_count": 53,
   "metadata": {},
   "outputs": [
    {
     "data": {
      "image/png": "[encoded data removed]",
      "text/plain": [
       "<matplotlib.figure.Figure at 0x11017f908>"
      ]
     },
     "metadata": {},
     "output_type": "display_data"
    }
   ],
   "source": [
    "# Le rayon r prendra des valeurs entre 6.000 km et 150.000 km\n",
    "r_km = np.arange(6000, 150000, 1)\n",
    "\n",
    "ForceGravitation = 1E-6 * (G*M)/(r_km**2)\n",
    "ForceCentrifuge  = 1E3  * r_km * Wt**2\n",
    "\n",
    "ForceTotale = ForceGravitation - ForceCentrifuge\n",
    "\n",
    "plt.plot(r_km, ForceGravitation)\n",
    "plt.plot(r_km, ForceCentrifuge)\n",
    "plt.plot(r_km, ForceTotale)\n",
    "\n",
    "\n",
    "plt.xlabel(\"Rayon de l'orbite en km\")\n",
    "plt.ylabel(\"Forces \")\n",
    "plt.grid()\n",
    "plt.title(\"Forces vs rayon de l'orbite\")\n",
    "\n",
    "plt.show()\n",
    "\n"
   ]
  },
  {
   "cell_type": "markdown",
   "metadata": {},
   "source": [
    "Nous observons que la Force totale s'annule pour le rayon de l'orbite géostationnaire. Cette courbe verte nous montre la force exercée sur chaque point du cable. La force est positive (attractive) au desssous de l'orbite géostationnaire et elle est négative (répulsive) au dessus.\n"
   ]
  },
  {
   "cell_type": "markdown",
   "metadata": {},
   "source": [
    "# 4. Le cable"
   ]
  },
  {
   "cell_type": "markdown",
   "metadata": {},
   "source": [
    "### Calcul du poids du cable et de sa tension:\n",
    "Entre 6.378 km (Surface de la terre) et 42.241 km (Orbite géostationnaire), la tension du cable augmente progressivement, elle est maximale lorsque l'on atteint la station orbitale. Nous avons trouvé une formule qui donne cette tension, représentation graphique ci-dessous.\n"
   ]
  },
  {
   "cell_type": "code",
   "execution_count": 56,
   "metadata": {},
   "outputs": [
    {
     "data": {
      "image/png": "[encoded data removed]",
      "text/plain": [
       "<matplotlib.figure.Figure at 0x114db2c88>"
      ]
     },
     "metadata": {},
     "output_type": "display_data"
    }
   ],
   "source": [
    "r_km = np.arange(6378, 42241, 1)\n",
    "\n",
    "Tension_cable = G*M*( Rg*3/2 - 1/r_km + (r_km**2)/(2*Rg**3))\n",
    "\n",
    "plt.plot(r_km, Tension_cable)\n",
    "\n",
    "plt.xlabel(\"Rayon de l'orbite en km\")\n",
    "plt.ylabel(\"Tension \")\n",
    "plt.grid()\n",
    "plt.title(\"Tension du cable vs rayon de l'orbite\")\n",
    "\n",
    "plt.show()"
   ]
  },
  {
   "cell_type": "code",
   "execution_count": null,
   "metadata": {},
   "outputs": [],
   "source": []
  }
 ],
 "metadata": {
  "kernelspec": {
   "display_name": "Python 3",
   "language": "python",
   "name": "python3"
  },
  "language_info": {
   "codemirror_mode": {
    "name": "ipython",
    "version": 3
   },
   "file_extension": ".py",
   "mimetype": "text/x-python",
   "name": "python",
   "nbconvert_exporter": "python",
   "pygments_lexer": "ipython3",
   "version": "3.6.3"
  }
 },
 "nbformat": 4,
 "nbformat_minor": 2
}
